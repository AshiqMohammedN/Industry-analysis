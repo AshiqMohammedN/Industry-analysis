{
 "cells": [
  {
   "cell_type": "code",
   "execution_count": null,
   "id": "4b4b54bf-99a8-43e4-8a80-927c8163f78a",
   "metadata": {},
   "outputs": [],
   "source": []
  }
 ],
 "metadata": {
  "kernelspec": {
   "display_name": "",
   "name": ""
  },
  "language_info": {
   "name": ""
  }
 },
 "nbformat": 4,
 "nbformat_minor": 5
}
